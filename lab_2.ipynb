{
  "nbformat": 4,
  "nbformat_minor": 0,
  "metadata": {
    "colab": {
      "provenance": [],
      "authorship_tag": "ABX9TyN5yDXrZYo+8wX4rsQk0ZWU",
      "include_colab_link": true
    },
    "kernelspec": {
      "name": "python3",
      "display_name": "Python 3"
    },
    "language_info": {
      "name": "python"
    }
  },
  "cells": [
    {
      "cell_type": "markdown",
      "metadata": {
        "id": "view-in-github",
        "colab_type": "text"
      },
      "source": [
        "<a href=\"https://colab.research.google.com/github/Alina-Smol/statistic/blob/main/lab_2.ipynb\" target=\"_parent\"><img src=\"https://colab.research.google.com/assets/colab-badge.svg\" alt=\"Open In Colab\"/></a>"
      ]
    },
    {
      "cell_type": "markdown",
      "source": [
        "Сгенерированы две выборки X и Y из нормального распределения с различными математическими ожиданиями и дисперсиями:\n",
        "\n",
        "• X: n = 50, a_x = 10, sigma_x = 2\n",
        "\n",
        "• Y: m = 30, a_y = 12, sigma_y = 3"
      ],
      "metadata": {
        "id": "VSeYBLeoKUia"
      }
    },
    {
      "cell_type": "code",
      "execution_count": null,
      "metadata": {
        "id": "1xjOd0LyPTKk"
      },
      "outputs": [],
      "source": [
        "import numpy as np\n",
        "from scipy import stats\n",
        "\n",
        "# Параметры для генерации выборок\n",
        "n = 50\n",
        "m = 30\n",
        "a_x = 10 # Математическое ожидание для X\n",
        "a_y = 12 # Математическое ожидание для Y\n",
        "sigma_x = 2 # Дисперсия для X\n",
        "sigma_y = 3 # Дисперсия для Y\n",
        "\n",
        "# Генерация выборок\n",
        "X = np.random.normal(loc=a_x, scale=sigma_x, size=n)\n",
        "Y = np.random.normal(loc=a_y, scale=sigma_y, size=m)"
      ]
    },
    {
      "cell_type": "markdown",
      "source": [
        "Проведен тест Колмогорова-Смирнова (KS-тест) для проверки гипотезы о равенстве распределений выборок X и Y. Полученное p-value = 3.31001843522193e-06 меньше уровня значимости (0.05).\n",
        "\n",
        "Вывод: Гипотеза о равенстве распределений отвергается. Это означает, что есть основания полагать, что распределения выборок X и Y отличаются."
      ],
      "metadata": {
        "id": "szkPN35eKdsR"
      }
    },
    {
      "cell_type": "code",
      "source": [
        "alpha=0.05\n",
        "\n",
        "#2\n",
        "from scipy.stats import mannwhitneyu\n",
        "from scipy.stats import ks_2samp\n",
        "\n",
        "# Вычислим критерий однородности\n",
        "result = ks_2samp(X, Y)\n",
        "result.pvalue\n",
        "if result.pvalue < alpha:\n",
        "  print(f\"Гипотеза о равенстве распределений отвергается (p-value {result.pvalue})\")\n",
        "else:\n",
        "  print(f\"Гипотеза о равенстве распределений не отвергается (p-value {result.pvalue})\")\n"
      ],
      "metadata": {
        "colab": {
          "base_uri": "https://localhost:8080/"
        },
        "id": "CQdVCt6j6DG7",
        "outputId": "5764e57d-a4d2-491b-f4d7-41d47db84629"
      },
      "execution_count": null,
      "outputs": [
        {
          "output_type": "stream",
          "name": "stdout",
          "text": [
            "Гипотеза о равенстве распределений отвергается (p-value 0.029255400254992465)\n"
          ]
        }
      ]
    },
    {
      "cell_type": "markdown",
      "source": [],
      "metadata": {
        "id": "i-79jI9CQ5eX"
      }
    },
    {
      "cell_type": "markdown",
      "source": [
        "Проведен F-тест для проверки гипотезы о равенстве дисперсий выборок X и Y. Полученное p-value 2.174271489214512e-09 меньше уровня значимости (0.05).\n",
        "\n",
        "Вывод: Гипотеза о равенстве дисперсий отклоняется. Это означает, что есть основания полагать, что дисперсии выборок X и Y не равны.\n"
      ],
      "metadata": {
        "id": "1BMhSD9DKzh2"
      }
    },
    {
      "cell_type": "code",
      "source": [
        "#3\n",
        "from scipy.stats import f_oneway\n",
        "\n",
        "result = f_oneway(X, Y)\n",
        "\n",
        "\n",
        "# # Принятие решения\n",
        "if result.pvalue < alpha:\n",
        "    print(f\"Гипотеза о равенстве дисперсий отклоняется (p-value = {result.pvalue})\")\n",
        "else:\n",
        "    print(f\"Гипотеза о равенстве дисперсий не отклоняется (p-value = {result.pvalue})\")\n"
      ],
      "metadata": {
        "colab": {
          "base_uri": "https://localhost:8080/"
        },
        "id": "te2vRFLqPhLn",
        "outputId": "a2262cca-c709-438a-bf24-45f8c005493e"
      },
      "execution_count": null,
      "outputs": [
        {
          "output_type": "stream",
          "name": "stdout",
          "text": [
            "Гипотеза о равенстве дисперсий отклоняется (p-value = 0.003353472216548694)\n"
          ]
        }
      ]
    },
    {
      "cell_type": "markdown",
      "source": [
        "Сгенерированы две выборки X и Y из нормального распределения с различными математическими ожиданиями, но с равной дисперсией:\n",
        "\n",
        "• X: n = 50, a_x = 10, sigma = 2\n",
        "\n",
        "• Y: m = 30, a_y = 12, sigma = 2"
      ],
      "metadata": {
        "id": "OBJIpwq6K4u1"
      }
    },
    {
      "cell_type": "code",
      "source": [
        "# 4. Генерация выборок с равными дисперсиями\n",
        "n = 50\n",
        "m = 30\n",
        "a_x = 10\n",
        "a_y = 12\n",
        "sigma = 2 # Равная дисперсия для X и Y\n",
        "\n",
        "X = np.random.normal(loc=a_x, scale=sigma, size=n)\n",
        "Y = np.random.normal(loc=a_y, scale=sigma, size=m)\n",
        "\n"
      ],
      "metadata": {
        "id": "QvL7_chgPlsH"
      },
      "execution_count": null,
      "outputs": []
    },
    {
      "cell_type": "markdown",
      "source": [
        "Вывод: p-value = 0.0005621319975081717. Гипотеза о равенстве распределений отвергается. Это означает, что есть основания полагать, что распределения выборок X и Y отличаются, несмотря на равную дисперсию."
      ],
      "metadata": {
        "id": "a7w0N-peLF4l"
      }
    },
    {
      "cell_type": "code",
      "source": [
        "# 5. Проверка гипотезы однородности\n",
        "result = ks_2samp(X, Y, alternative='two-sided')\n",
        "\n",
        "if result.pvalue < alpha:\n",
        "  print(f\"Гипотеза о равенстве распределений отвергается p-value {result.pvalue}\")\n",
        "else:\n",
        "  print(f\"Гипотеза о равенстве распределений не отвергается p-value {result.pvalue}\")\n"
      ],
      "metadata": {
        "colab": {
          "base_uri": "https://localhost:8080/"
        },
        "id": "tCOtTqEzPo9h",
        "outputId": "443b9d25-079c-4b86-b1d3-804e65b4dd62"
      },
      "execution_count": null,
      "outputs": [
        {
          "output_type": "stream",
          "name": "stdout",
          "text": [
            "Гипотеза о равенстве распределений отвергается p-value 0.0005621319975081717\n"
          ]
        }
      ]
    },
    {
      "cell_type": "markdown",
      "source": [
        "Сгенерированы две выборки X и Y с небольшим объемом из нормального распределения с различными математическими ожиданиями, но с равной дисперсией:\n",
        "\n",
        "• X: n = 9, a_x = 10, sigma = 2\n",
        "\n",
        "• Y: m = 7, a_y = 12, sigma = 2\n",
        "\n",
        "Проведен критерий Уилкоксона для проверки гипотезы о равенстве распределений выборок X и Y с небольшим объемом. Полученное p-value 0.07115384615384615 больше уровня значимости (0.05).\n",
        "\n",
        "Вывод: Гипотеза о равенстве распределений не отвергается. Это означает, что нет достаточных оснований полагать, что распределения выборок X и Y с небольшим объемом отличаются."
      ],
      "metadata": {
        "id": "4NqQY5V_LJJN"
      }
    },
    {
      "cell_type": "code",
      "source": [
        "# 6-7.\n",
        "n = 9\n",
        "m = 7\n",
        "a_x = 10\n",
        "a_y = 12\n",
        "sigma = 2\n",
        "\n",
        "X = np.random.normal(loc=a_x, scale=sigma, size=n)\n",
        "Y = np.random.normal(loc=a_y, scale=sigma, size=m)\n",
        "\n",
        "result = mannwhitneyu(X, Y, alternative='two-sided')\n",
        "\n",
        "if result.pvalue < alpha:\n",
        "  print(f\"Гипотеза о равенстве распределений отвергается p-value {result.pvalue}\")\n",
        "else:\n",
        "  print(f\"Гипотеза о равенстве распределений не отвергается p-value {result.pvalue}\")\n"
      ],
      "metadata": {
        "id": "HddPh3Q4PpOi",
        "colab": {
          "base_uri": "https://localhost:8080/"
        },
        "outputId": "54e8a475-fe5e-4146-8f6b-1259f7676644"
      },
      "execution_count": null,
      "outputs": [
        {
          "output_type": "stream",
          "name": "stdout",
          "text": [
            "Гипотеза о равенстве распределений не отвергается p-value 0.07115384615384615\n"
          ]
        }
      ]
    }
  ]
}